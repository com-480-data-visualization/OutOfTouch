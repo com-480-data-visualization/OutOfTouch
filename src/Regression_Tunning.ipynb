{
 "cells": [
  {
   "cell_type": "code",
   "execution_count": 1,
   "id": "cdc38bb9-d3fe-49b9-b250-54793e60537f",
   "metadata": {},
   "outputs": [],
   "source": [
    "import pandas as pd\n",
    "from sklearn.model_selection import train_test_split\n",
    "from sklearn.linear_model import LogisticRegression\n",
    "from sklearn.metrics import accuracy_score, classification_report\n",
    "\n",
    "# Assuming you have a DataFrame df with columns 'longitude', 'latitude', 'time', and 'accident' where 'accident' is the target variable\n",
    "\n"
   ]
  },
  {
   "cell_type": "code",
   "execution_count": 7,
   "id": "073baab5-1083-4023-bb3f-a19ec41fa912",
   "metadata": {},
   "outputs": [
    {
     "name": "stdout",
     "output_type": "stream",
     "text": [
      "   crash_time   latitude  longitude  accident\n",
      "0    7.816667  40.816746 -73.929040         1\n",
      "1   20.166667  40.497397 -73.768028         0\n",
      "2   16.000000  40.760723 -73.872086         1\n",
      "3   14.750000  40.499365 -73.939240         0\n",
      "4   22.833333  40.618797 -73.983500         1\n"
     ]
    }
   ],
   "source": [
    "# Step 2: Read the CSV file\n",
    "regression_dataset= pd.read_csv('regression_dataset.csv')\n",
    "\n",
    "# Step 3: Display the first few rows of the DataFrame\n",
    "print(df.head())"
   ]
  },
  {
   "cell_type": "code",
   "execution_count": 9,
   "id": "5f55fcae-cbf8-44aa-b5aa-123c21e3cf24",
   "metadata": {},
   "outputs": [],
   "source": [
    "def time_to_float(time_str):\n",
    "    # Split the time string into hours and minutes\n",
    "    hours, minutes = map(int, time_str.split(':'))\n",
    "    # Convert hours and minutes to a single float value representing the time in hours\n",
    "    return hours + minutes / 60\n",
    "\n",
    "\n",
    "# regression_dataset['crash_time'] = regression_dataset['crash_time'].apply(time_to_float)\n"
   ]
  },
  {
   "cell_type": "code",
   "execution_count": 15,
   "id": "8bbf447f-a38b-4fbc-85ed-8d8c464f2f6b",
   "metadata": {},
   "outputs": [
    {
     "name": "stdout",
     "output_type": "stream",
     "text": [
      "Accuracy: 0.6700113593335858\n",
      "Classification Report:\n",
      "               precision    recall  f1-score   support\n",
      "\n",
      "           0       0.69      0.63      0.66      2651\n",
      "           1       0.66      0.71      0.68      2631\n",
      "\n",
      "    accuracy                           0.67      5282\n",
      "   macro avg       0.67      0.67      0.67      5282\n",
      "weighted avg       0.67      0.67      0.67      5282\n",
      "\n",
      "Predicted Probabilities: [4.63746177e-01 5.52615940e-27]\n",
      "Predicted Probabilities Per: [46.3746177295501, 5.526159402318014e-25]\n"
     ]
    }
   ],
   "source": [
    "# Step 1: Data Preparation\n",
    "# Example of creating some sample data\n",
    "\n",
    "\n",
    "# Step 2: Feature Engineering (if needed)\n",
    "# Example: Extract hour of the day from the time column\n",
    "\n",
    "# Step 3: Split data into train and test sets\n",
    "X = regression_dataset[['longitude', 'latitude', 'crash_time']]\n",
    "y = regression_dataset['accident']\n",
    "X_train, X_test, y_train, y_test = train_test_split(X, y, test_size=0.1, random_state=42)\n",
    "\n",
    "# Step 4: Model Training\n",
    "model = LogisticRegression()\n",
    "model.fit(X_train, y_train)\n",
    "\n",
    "# Step 5: Model Evaluation\n",
    "y_pred = model.predict(X_test)\n",
    "accuracy = accuracy_score(y_test, y_pred)\n",
    "print(\"Accuracy:\", accuracy)\n",
    "print(\"Classification Report:\\n\", classification_report(y_test, y_pred))\n",
    "\n",
    "# Step 6: Prediction for specific points and times\n",
    "# Assuming you have new points and times stored in X_new\n",
    "X_new = pd.DataFrame({'longitude': [-74.0060, -118.2437], 'latitude': [40.7128, 34.0522], 'crash_time': ['10:12', '15:14']})\n",
    "X_new['crash_time'] = X_new['crash_time'].apply(time_to_float)\n",
    "predicted_probabilities = model.predict_proba(X_new)[:, 1]  # Probability of accident\n",
    "print(\"Predicted Probabilities:\", predicted_probabilities)\n",
    "\n",
    "\n",
    "predicted_probabilities_in_percent = [prob * 100 for prob in predicted_probabilities]\n",
    "print(\"Predicted Probabilities Per:\", predicted_probabilities_in_percent)"
   ]
  },
  {
   "cell_type": "markdown",
   "id": "0ab82b23-eb5f-46c8-be4e-8c3791a3f353",
   "metadata": {},
   "source": [
    "## Save the model"
   ]
  },
  {
   "cell_type": "code",
   "execution_count": 16,
   "id": "c56a5fed-a3b4-4694-a6a6-5ceeeb280dfd",
   "metadata": {},
   "outputs": [
    {
     "data": {
      "text/html": [
       "<div>\n",
       "<style scoped>\n",
       "    .dataframe tbody tr th:only-of-type {\n",
       "        vertical-align: middle;\n",
       "    }\n",
       "\n",
       "    .dataframe tbody tr th {\n",
       "        vertical-align: top;\n",
       "    }\n",
       "\n",
       "    .dataframe thead th {\n",
       "        text-align: right;\n",
       "    }\n",
       "</style>\n",
       "<table border=\"1\" class=\"dataframe\">\n",
       "  <thead>\n",
       "    <tr style=\"text-align: right;\">\n",
       "      <th></th>\n",
       "      <th>longitude</th>\n",
       "      <th>latitude</th>\n",
       "      <th>crash_time</th>\n",
       "    </tr>\n",
       "  </thead>\n",
       "  <tbody>\n",
       "    <tr>\n",
       "      <th>0</th>\n",
       "      <td>-74.0060</td>\n",
       "      <td>40.7128</td>\n",
       "      <td>10.200000</td>\n",
       "    </tr>\n",
       "    <tr>\n",
       "      <th>1</th>\n",
       "      <td>-118.2437</td>\n",
       "      <td>34.0522</td>\n",
       "      <td>15.233333</td>\n",
       "    </tr>\n",
       "  </tbody>\n",
       "</table>\n",
       "</div>"
      ],
      "text/plain": [
       "   longitude  latitude  crash_time\n",
       "0   -74.0060   40.7128   10.200000\n",
       "1  -118.2437   34.0522   15.233333"
      ]
     },
     "execution_count": 16,
     "metadata": {},
     "output_type": "execute_result"
    }
   ],
   "source": [
    "X_new"
   ]
  },
  {
   "cell_type": "code",
   "execution_count": 20,
   "id": "24793929-fb09-4f6a-a0cc-1c39f1140555",
   "metadata": {},
   "outputs": [
    {
     "data": {
      "text/plain": [
       "['model_simple.pkl']"
      ]
     },
     "execution_count": 20,
     "metadata": {},
     "output_type": "execute_result"
    }
   ],
   "source": [
    "import joblib\n",
    "\n",
    "\n",
    "joblib.dump(model, 'model_simple.pkl')"
   ]
  },
  {
   "cell_type": "code",
   "execution_count": 21,
   "id": "cec8a03a-875c-4053-ae06-b2715ecc30f5",
   "metadata": {},
   "outputs": [
    {
     "name": "stdout",
     "output_type": "stream",
     "text": [
      "3.10.12 | packaged by conda-forge | (main, Jun 23 2023, 22:40:32) [GCC 12.3.0]\n"
     ]
    }
   ],
   "source": [
    "import sys\n",
    "print(sys.version)\n"
   ]
  },
  {
   "cell_type": "code",
   "execution_count": 22,
   "id": "27d72db4-440e-42ba-828a-3d40439bad9a",
   "metadata": {},
   "outputs": [],
   "source": [
    " prediction = model.predict_proba(X_new)[:, 1]"
   ]
  },
  {
   "cell_type": "code",
   "execution_count": 24,
   "id": "7d3922f1-beda-4f4d-a9ec-9c11121df0e6",
   "metadata": {},
   "outputs": [
    {
     "data": {
      "text/plain": [
       "array([4.63746177e-01, 5.52615940e-27])"
      ]
     },
     "execution_count": 24,
     "metadata": {},
     "output_type": "execute_result"
    }
   ],
   "source": [
    "prediction"
   ]
  },
  {
   "cell_type": "code",
   "execution_count": null,
   "id": "db6f3923-9a9d-4c77-b24f-c777f930bc13",
   "metadata": {},
   "outputs": [],
   "source": []
  }
 ],
 "metadata": {
  "kernelspec": {
   "display_name": "dv",
   "language": "python",
   "name": "dv"
  },
  "language_info": {
   "codemirror_mode": {
    "name": "ipython",
    "version": 3
   },
   "file_extension": ".py",
   "mimetype": "text/x-python",
   "name": "python",
   "nbconvert_exporter": "python",
   "pygments_lexer": "ipython3",
   "version": "3.10.12"
  }
 },
 "nbformat": 4,
 "nbformat_minor": 5
}
